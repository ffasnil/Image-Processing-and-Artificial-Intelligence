{
 "cells": [
  {
   "cell_type": "code",
   "execution_count": 5,
   "id": "b2967268",
   "metadata": {},
   "outputs": [
    {
     "data": {
      "image/png": "[encoded data removed]",
      "text/plain": [
       "<Figure size 640x480 with 1 Axes>"
      ]
     },
     "metadata": {},
     "output_type": "display_data"
    },
    {
     "name": "stdout",
     "output_type": "stream",
     "text": [
      "1/1 [==============================] - 0s 92ms/step\n",
      "The Predicted Number is 7\n"
     ]
    }
   ],
   "source": [
    "from keras.preprocessing.image import load_img, img_to_array\n",
    "from keras.models import load_model\n",
    "import matplotlib.pyplot as plt\n",
    "\n",
    "# Part 1: load and prepare the image\n",
    "def load_image(filename):\n",
    "    # load the image\n",
    "    img = load_img(filename, target_size=(28, 28), color_mode='grayscale')\n",
    "    # convert to array\n",
    "    img = img_to_array(img)\n",
    "    # flatten the image\n",
    "    img = img.reshape(1, 784)  # Flatten to match model input shape\n",
    "    # prepare pixel data\n",
    "    img = img.astype('float32')\n",
    "    img = img / 255.0\n",
    "    return img\n",
    "\n",
    "# Part 2: load an image and predict the class\n",
    "def run_example():\n",
    "    # load the image\n",
    "    img_path = r'C:\\Users\\ffah\\Desktop\\Projects\\BEng Project\\SIIT ML\\Robotics Lecture\\Robotics_code\\2ndSemTensorFlow\\week11\\digitsample_image.png'\n",
    "    img = load_image(img_path)\n",
    "\n",
    "    # Plot the image\n",
    "    plt.imshow(img.reshape(28, 28), cmap='gray')\n",
    "    plt.title('Input Image')\n",
    "    plt.show()\n",
    "\n",
    "    # load model\n",
    "    model_path = r'C:\\Users\\ffah\\Desktop\\Projects\\BEng Project\\SIIT ML\\Robotics Lecture\\Robotics_code\\2ndSemTensorFlow\\week11\\finalPCA_model.h5'\n",
    "    model = load_model(model_path)\n",
    "    \n",
    "    # predict the class probabilities\n",
    "    predictions = model.predict(img)\n",
    "    # get the predicted class (index with the highest probability)\n",
    "    digit = predictions.argmax()\n",
    "    print(\"The Predicted Number is\", digit)\n",
    "\n",
    "# entry point, run the example\n",
    "run_example()\n"
   ]
  }
 ],
 "metadata": {
  "kernelspec": {
   "display_name": "Python 3 (ipykernel)",
   "language": "python",
   "name": "python3"
  },
  "language_info": {
   "codemirror_mode": {
    "name": "ipython",
    "version": 3
   },
   "file_extension": ".py",
   "mimetype": "text/x-python",
   "name": "python",
   "nbconvert_exporter": "python",
   "pygments_lexer": "ipython3",
   "version": "3.11.5"
  }
 },
 "nbformat": 4,
 "nbformat_minor": 5
}
