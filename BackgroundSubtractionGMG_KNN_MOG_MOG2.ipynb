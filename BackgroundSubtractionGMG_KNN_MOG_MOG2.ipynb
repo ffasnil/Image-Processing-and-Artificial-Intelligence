{
 "cells": [
  {
   "cell_type": "code",
   "execution_count": 1,
   "id": "55a0fee3",
   "metadata": {},
   "outputs": [],
   "source": [
    "import numpy as np\n",
    "import cv2\n",
    "\n",
    "# Initiate video capture for video file\n",
    "cap = cv2.VideoCapture(r'C:\\Users\\ffah\\Desktop\\Projects\\BEng Project\\SIIT ML\\Robotics Lecture\\Robotics_code\\week6\\Figures\\highway.mp4')\n",
    "\n",
    "# Create ellipse kernel for morphological operation to remove noise\n",
    "kernel = cv2.getStructuringElement(cv2.MORPH_ELLIPSE, (3, 3))\n",
    "\n",
    "# GMG Background Subtraction\n",
    "fgbg_gmg = cv2.createBackgroundSubtractorMOG2(history=120, varThreshold=16, detectShadows=False)\n",
    "\n",
    "# MOG Background Subtraction\n",
    "fgbg_mog = cv2.bgsegm.createBackgroundSubtractorMOG(history=100, nmixtures=7, backgroundRatio=0.5)\n",
    "\n",
    "# KNN Background Subtraction\n",
    "fgbg_knn = cv2.createBackgroundSubtractorKNN()\n",
    "\n",
    "while cap.isOpened():\n",
    "    ret, frame = cap.read()  # Reading next frames from video \n",
    "\n",
    "    # GMG Background Subtraction\n",
    "    fgmask_gmg = fgbg_gmg.apply(frame)\n",
    "    fgmask_gmg = cv2.morphologyEx(fgmask_gmg, cv2.MORPH_OPEN, kernel)\n",
    "\n",
    "    # MOG Background Subtraction\n",
    "    fgmask_mog = fgbg_mog.apply(frame)\n",
    "    fgmask_mog = cv2.morphologyEx(fgmask_mog, cv2.MORPH_OPEN, kernel)\n",
    "\n",
    "    # KNN Background Subtraction\n",
    "    fgmask_knn = fgbg_knn.apply(frame)\n",
    "    fgmask_knn = cv2.morphologyEx(fgmask_knn, cv2.MORPH_OPEN, kernel)\n",
    "\n",
    "    # Display frame number: get the frame number and write it on the current frame\n",
    "    cv2.rectangle(frame, (10, 2), (100, 20), (255, 255, 255), -1)\n",
    "    cv2.putText(frame, str(cap.get(cv2.CAP_PROP_POS_FRAMES)), (15, 15),\n",
    "                cv2.FONT_HERSHEY_SIMPLEX, 0.5, (0, 0, 0))\n",
    "\n",
    "    # Show the current frame and the fg masks\n",
    "    cv2.imshow('Original Image', frame)\n",
    "    cv2.imshow('Background Subtractor GMG', fgmask_gmg)\n",
    "    cv2.imshow('Background Subtractor MOG', fgmask_mog)\n",
    "    cv2.imshow('Background Subtractor KNN', fgmask_knn)\n",
    "\n",
    "    keyboard = cv2.waitKey(30)\n",
    "    if keyboard == 'q' or keyboard == 27:\n",
    "        break\n",
    "\n",
    "cap.release()\n",
    "cv2.destroyAllWindows()"
   ]
  }
 ],
 "metadata": {
  "kernelspec": {
   "display_name": "Python 3 (ipykernel)",
   "language": "python",
   "name": "python3"
  },
  "language_info": {
   "codemirror_mode": {
    "name": "ipython",
    "version": 3
   },
   "file_extension": ".py",
   "mimetype": "text/x-python",
   "name": "python",
   "nbconvert_exporter": "python",
   "pygments_lexer": "ipython3",
   "version": "3.11.5"
  }
 },
 "nbformat": 4,
 "nbformat_minor": 5
}
