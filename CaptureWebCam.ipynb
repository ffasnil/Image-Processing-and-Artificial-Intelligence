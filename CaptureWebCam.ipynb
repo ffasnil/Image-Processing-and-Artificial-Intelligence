{
 "cells": [
  {
   "cell_type": "code",
   "execution_count": 35,
   "id": "e2a1a9a0",
   "metadata": {},
   "outputs": [],
   "source": [
    "# import OpenCV module\n",
    "import cv2"
   ]
  },
  {
   "cell_type": "code",
   "execution_count": 36,
   "id": "a0332b0b",
   "metadata": {},
   "outputs": [],
   "source": [
    "# \"VideoCapture\" function to create a video capture object, named \"cam\"\n",
    "cam = cv2.VideoCapture(0)"
   ]
  },
  {
   "cell_type": "code",
   "execution_count": 37,
   "id": "ffbbe951",
   "metadata": {},
   "outputs": [],
   "source": [
    "# Check if the webcam is opened correctly\n",
    "if not cam.isOpened():\n",
    "    raise IOError(\"Cannot open webcam\")"
   ]
  },
  {
   "cell_type": "code",
   "execution_count": 38,
   "id": "d8d5eea3",
   "metadata": {},
   "outputs": [],
   "source": [
    "# \"read\" function to read single shot/frame from video object\n",
    "ret, frame = cam.read()"
   ]
  },
  {
   "cell_type": "code",
   "execution_count": 39,
   "id": "83514733",
   "metadata": {},
   "outputs": [],
   "source": [
    "# If the frame is successfully captured\n",
    "if ret:\n",
    "    # \"imshow\" display \"frame\" in window \n",
    "    cv2.imshow('SnapshotTest', frame)\n",
    "    \n",
    "    # \"waitKey(0) displays image for infinite time until Esc key is pressed. (0 means infinite wait)\n",
    "    cv2.waitKey(0)\n",
    "    \n",
    "    # Check if the window is still open before trying to close it\n",
    "    if cv2.getWindowProperty('SnapshotTest', cv2.WND_PROP_VISIBLE) > 0:\n",
    "        cv2.destroyWindow('SnapshotTest')\n",
    "    \n",
    "    # \"imwrite\" Write the frame to a file\n",
    "    path_to_save = r'C:\\Users\\ffah\\Desktop\\SnapshotImage.jpg'\n",
    "    cv2.imwrite(path_to_save, frame)\n",
    "\n",
    "# \"release\" is used for closing the webcam properly\n",
    "cam.release()"
   ]
  }
 ],
 "metadata": {
  "kernelspec": {
   "display_name": "Python 3 (ipykernel)",
   "language": "python",
   "name": "python3"
  },
  "language_info": {
   "codemirror_mode": {
    "name": "ipython",
    "version": 3
   },
   "file_extension": ".py",
   "mimetype": "text/x-python",
   "name": "python",
   "nbconvert_exporter": "python",
   "pygments_lexer": "ipython3",
   "version": "3.11.5"
  }
 },
 "nbformat": 4,
 "nbformat_minor": 5
}
