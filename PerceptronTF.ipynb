{
 "cells": [
  {
   "cell_type": "code",
   "execution_count": 1,
   "id": "9325b42e",
   "metadata": {},
   "outputs": [
    {
     "name": "stdout",
     "output_type": "stream",
     "text": [
      "WARNING:tensorflow:From C:\\Users\\ffah\\anaconda3\\Lib\\site-packages\\keras\\src\\losses.py:2976: The name tf.losses.sparse_softmax_cross_entropy is deprecated. Please use tf.compat.v1.losses.sparse_softmax_cross_entropy instead.\n",
      "\n",
      "tf.Tensor(\n",
      "[[-0.4860738  -0.4860738 ]\n",
      " [-0.8601294  -0.8601294 ]\n",
      " [-1.0067396  -1.0067396 ]\n",
      " [-0.07740951 -0.07740951]\n",
      " [ 1.2192113   1.2192113 ]\n",
      " [ 0.7328008   0.7328008 ]\n",
      " [ 0.96144867  0.96144867]\n",
      " [ 1.7829022   1.7829022 ]], shape=(8, 2), dtype=float32)\n",
      "Original: W = \n",
      " [[-1.649019 ]\n",
      " [ 1.6503856]]\n",
      "tf.Tensor([[0.8807971]], shape=(1, 1), dtype=float32)\n",
      "tf.Tensor([[0.8807971]], shape=(1, 1), dtype=float32)\n",
      "tf.Tensor([[0.8807971]], shape=(1, 1), dtype=float32)\n",
      "tf.Tensor([[0.8807971]], shape=(1, 1), dtype=float32)\n",
      "tf.Tensor([[-0.8807971]], shape=(1, 1), dtype=float32)\n",
      "tf.Tensor(\n",
      "[[-1.7709402]\n",
      " [ 1.5284644]], shape=(2, 1), dtype=float32)\n",
      "tf.Tensor([[-0.8807971]], shape=(1, 1), dtype=float32)\n",
      "tf.Tensor(\n",
      "[[-1.8442203]\n",
      " [ 1.4551843]], shape=(2, 1), dtype=float32)\n",
      "tf.Tensor([[-0.8807971]], shape=(1, 1), dtype=float32)\n",
      "tf.Tensor(\n",
      "[[-1.9403652]\n",
      " [ 1.3590394]], shape=(2, 1), dtype=float32)\n",
      "tf.Tensor([[-0.8807971]], shape=(1, 1), dtype=float32)\n",
      "tf.Tensor(\n",
      "[[-2.1186554]\n",
      " [ 1.1807492]], shape=(2, 1), dtype=float32)\n",
      "After Learning: W = \n",
      " [[-2.1186554]\n",
      " [ 1.1807492]]\n"
     ]
    },
    {
     "data": {
      "image/png": "[encoded data removed]",
      "text/plain": [
       "<Figure size 640x480 with 1 Axes>"
      ]
     },
     "metadata": {},
     "output_type": "display_data"
    }
   ],
   "source": [
    "import numpy as np\n",
    "import matplotlib.pyplot as plt\n",
    "import tensorflow as tf\n",
    "\n",
    "def perceptron(X, T, W=None, lr=0.1): # lr = learning rate\n",
    "    for i in range(8):\n",
    "        b = 0.0\n",
    "        Wt = tf.ones(shape=[1,2], dtype=tf.float32)\n",
    "        Xreshape = tf.ones(shape=[2,1], dtype=tf.float32)\n",
    "        A = T[i]*tf.nn.sigmoid(tf.matmul(Wt, Xreshape)+b)\n",
    "        print(A)\n",
    "        if (A <= 0):\n",
    "            XReshape = tf.reshape(lr*T[i]*X[i,:], shape=[2, 1])\n",
    "            W = tf.add(W, XReshape)\n",
    "            print(W)\n",
    "    return W\n",
    "\n",
    "def plot_hyperplane2d(X, T, w):\n",
    "    plt.title('Learning rate = 0.1')\n",
    "    for i in range(8):\n",
    "        if (T[i] == 1):\n",
    "            plt.plot(X[i, 0], X[i, 1],'og')\n",
    "        else:\n",
    "            plt.plot(X[i, 0], X[i, 1],'or')\n",
    "        if (w[1] != 0):\n",
    "            xlim = plt.gca().get_xlim()\n",
    "            slope = -w[0] / w[1]\n",
    "            bias = 0.0\n",
    "            plt.plot(xlim, [xlim[0] * slope + bias, xlim[1] * slope + bias], 'b')\n",
    "        else:\n",
    "            ylim = plt.gca().get_ylim()\n",
    "            plt.plot([0, 0], ylim, 'b')\n",
    "        \n",
    "# Create random numbers with different seed\n",
    "GuassRandom1 = tf.random.Generator.from_seed(5)\n",
    "GuassRandom2 = tf.random.Generator.from_seed(1)\n",
    "\n",
    "# Generate input vector : X1 with center@[-1,-1] and X2 with center@[1, 1]\n",
    "X1 = tf.Variable(GuassRandom1.normal(shape=[4, 1], mean=0.0, stddev=0.5))+ tf.constant([-1.0, -1.0])\n",
    "X2 = tf.Variable(GuassRandom2.normal(shape=[4, 1], mean=0.0, stddev=0.5)) + tf.constant([1.0, 1.0])\n",
    "X = tf.concat(values=[X1, X2], axis=0)\n",
    "print(X)\n",
    "# Generate label vector for output data\n",
    "T1 = tf.ones(shape=[4,1], dtype=tf.float32)\n",
    "T2 = -1.0*tf.ones(shape=[4,1], dtype=tf.float32)\n",
    "T = tf.concat(values=[T1, T2], axis=0)\n",
    "# Initialize random weight vector : W\n",
    "W = tf.Variable(GuassRandom1.normal(shape=[2, 1]))\n",
    "print(\"Original: W = \\n\",W.numpy())\n",
    "# Perform Learning process using the Perceptron\n",
    "W = perceptron(X, T, W)\n",
    "print(\"After Learning: W = \\n\",W.numpy())\n",
    "# Plot hyperplane to examine how accurate perceptron perform learning proess\n",
    "plot_hyperplane2d(X, T, W)\n",
    "plt.show()"
   ]
  }
 ],
 "metadata": {
  "kernelspec": {
   "display_name": "Python 3 (ipykernel)",
   "language": "python",
   "name": "python3"
  },
  "language_info": {
   "codemirror_mode": {
    "name": "ipython",
    "version": 3
   },
   "file_extension": ".py",
   "mimetype": "text/x-python",
   "name": "python",
   "nbconvert_exporter": "python",
   "pygments_lexer": "ipython3",
   "version": "3.11.5"
  }
 },
 "nbformat": 4,
 "nbformat_minor": 5
}
